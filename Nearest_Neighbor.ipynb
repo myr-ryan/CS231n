{
  "nbformat": 4,
  "nbformat_minor": 0,
  "metadata": {
    "colab": {
      "name": "Nearest Neighbor.ipynb",
      "provenance": [],
      "collapsed_sections": [],
      "authorship_tag": "ABX9TyMH+Bz3kzIiwunZDo8dB2j0",
      "include_colab_link": true
    },
    "kernelspec": {
      "name": "python3",
      "display_name": "Python 3"
    }
  },
  "cells": [
    {
      "cell_type": "markdown",
      "metadata": {
        "id": "view-in-github",
        "colab_type": "text"
      },
      "source": [
        "<a href=\"https://colab.research.google.com/github/myr-ryan/CS231n/blob/master/Nearest_Neighbor.ipynb\" target=\"_parent\"><img src=\"https://colab.research.google.com/assets/colab-badge.svg\" alt=\"Open In Colab\"/></a>"
      ]
    },
    {
      "cell_type": "code",
      "metadata": {
        "id": "YZY9Zzm1TzJm",
        "colab_type": "code",
        "colab": {}
      },
      "source": [
        "import numpy as np\n",
        "\n",
        "\n",
        "class NearestNeighbor:\n",
        "    def __init__(self):\n",
        "      pass\n",
        "\n",
        "    def train(self, X, y):\n",
        "      self.Xtr = X\n",
        "      self.ytr = y\n",
        "\n",
        "    def predict(self, X):\n",
        "      num_test = X.shape[0]\n",
        "\n",
        "      Ypred = np.zeros(num_test, dtype = self.ytr.dtype)\n",
        "\n",
        "      for i in xrange(num_test):\n",
        "        distances = np.sum(np.abs(self.Xtr - X[i, :]), axis = 1)\n",
        "        min_index = np.argmin(distances)\n",
        "        Ypred[i] = self.ytr[min_index]\n",
        "\n",
        "      return Ypred"
      ],
      "execution_count": null,
      "outputs": []
    }
  ]
}